{
 "cells": [
  {
   "cell_type": "code",
   "execution_count": null,
   "metadata": {},
   "outputs": [],
   "source": []
  },
  {
   "cell_type": "markdown",
   "metadata": {},
   "source": [
    "### Import Required Libraries and Set Up Environment Variables\n",
    "\n",
    "First, we'll import the necessary libraries and load our NASA API key."
   ]
  },
  {
   "cell_type": "code",
   "execution_count": 1,
   "metadata": {
    "execution": {
     "iopub.execute_input": "2025-01-24T00:03:56.843336Z",
     "iopub.status.busy": "2025-01-24T00:03:56.843246Z",
     "iopub.status.idle": "2025-01-24T00:04:00.388197Z",
     "shell.execute_reply": "2025-01-24T00:04:00.387880Z"
    }
   },
   "outputs": [
    {
     "name": "stdout",
     "output_type": "stream",
     "text": [
      "API key loaded successfully\n"
     ]
    }
   ],
   "source": [
    "# Dependencies\n",
    "import requests\n",
    "import time\n",
    "from dotenv import load_dotenv\n",
    "import os\n",
    "import pandas as pd\n",
    "import json\n",
    "from datetime import datetime\n",
    "\n",
    "# Load the NASA_API_KEY from the env file\n",
    "load_dotenv()\n",
    "NASA_API_KEY = os.getenv('NASA_API_KEY')\n",
    "\n",
    "# Verify API key is loaded\n",
    "if NASA_API_KEY is None:\n",
    "    raise ValueError(\"NASA_API_KEY not found in .env file\")\n",
    "print(\"API key loaded successfully\")"
   ]
  },
  {
   "cell_type": "markdown",
   "metadata": {},
   "source": [
    "### Part 1: Request CME data from the NASA API\n",
    "\n",
    "First, we'll fetch and process the CME (Coronal Mass Ejection) data."
   ]
  },
  {
   "cell_type": "code",
   "execution_count": 2,
   "metadata": {
    "execution": {
     "iopub.execute_input": "2025-01-24T00:04:00.407335Z",
     "iopub.status.busy": "2025-01-24T00:04:00.407138Z",
     "iopub.status.idle": "2025-01-24T00:07:55.334473Z",
     "shell.execute_reply": "2025-01-24T00:07:55.334144Z"
    }
   },
   "outputs": [
    {
     "name": "stdout",
     "output_type": "stream",
     "text": [
      "Sample CME Data:\n",
      "{\n",
      "    \"activityID\": \"2013-05-01T03:12:00-CME-001\",\n",
      "    \"catalog\": \"M2M_CATALOG\",\n",
      "    \"startTime\": \"2013-05-01T03:12Z\",\n",
      "    \"instruments\": [\n",
      "        {\n",
      "            \"displayName\": \"SOHO: LASCO/C2\"\n",
      "        },\n",
      "        {\n",
      "            \"displayName\": \"SOHO: LASCO/C3\"\n",
      "        },\n",
      "        {\n",
      "            \"displayName\": \"STEREO A: SECCHI/COR2\"\n",
      "        },\n",
      "        {\n",
      "            \"displayName\": \"STEREO B: SECCHI/COR2\"\n",
      "        }\n",
      "    ],\n",
      "    \"sourceLocation\": \"\",\n",
      "    \"activeRegionNum\": null,\n",
      "    \"note\": \"\",\n",
      "    \"submissionTime\": \"2013-08-07T16:54Z\",\n",
      "    \"versionId\": 1,\n",
      "    \"link\": \"https://webtools.ccmc.gsfc.nasa.gov/DONKI/view/CME/2349/-1\",\n",
      "    \"cmeAnalyses\": [\n",
      "        {\n",
      "            \"isMostAccurate\": true,\n",
      "            \"time21_5\": \"2013-05-01T07:07Z\",\n",
      "            \"latitude\": 12.0,\n",
      "            \"longitude\": -120.0,\n",
      "            \"halfAngle\": 36.0,\n",
      "            \"speed\": 860.0,\n",
      "            \"type\": \"C\",\n",
      "            \"featureCode\": \"null\",\n",
      "            \"imageType\": null,\n",
      "            \"measurementTechnique\": \"null\",\n",
      "            \"note\": \"\",\n",
      "            \"levelOfData\": 0,\n",
      "            \"tilt\": null,\n",
      "            \"minorHalfWidth\": null,\n",
      "            \"speedMeasuredAtHeight\": null,\n",
      "            \"submissionTime\": \"2013-08-07T16:54Z\",\n",
      "            \"link\": \"https://webtools.ccmc.gsfc.nasa.gov/DONKI/view/CMEAnalysis/2350/-1\",\n",
      "            \"enlilList\": [\n",
      "                {\n",
      "                    \"modelCompletionTime\": \"2013-05-01T08:32Z\",\n",
      "                    \"au\": 2.0,\n",
      "                    \"estimatedShockArrivalTime\": null,\n",
      "                    \"estimatedDuration\": null,\n",
      "                    \"rmin_re\": null,\n",
      "                    \"kp_18\": null,\n",
      "                    \"kp_90\": null,\n",
      "                    \"kp_135\": null,\n",
      "                    \"kp_180\": null,\n",
      "                    \"isEarthGB\": false,\n",
      "                    \"link\": \"https://webtools.ccmc.gsfc.nasa.gov/DONKI/view/WSA-ENLIL/2348/-1\",\n",
      "                    \"impactList\": [\n",
      "                        {\n",
      "                            \"isGlancingBlow\": false,\n",
      "                            \"location\": \"STEREO B\",\n",
      "                            \"arrivalTime\": \"2013-05-04T06:16Z\"\n",
      "                        }\n",
      "                    ],\n",
      "                    \"cmeIDs\": [\n",
      "                        \"2013-05-01T03:12:00-CME-001\"\n",
      "                    ]\n",
      "                }\n",
      "            ]\n",
      "        }\n",
      "    ],\n",
      "    \"linkedEvents\": [\n",
      "        {\n",
      "            \"activityID\": \"2013-05-04T04:52:00-IPS-001\"\n",
      "        }\n",
      "    ]\n",
      "}\n"
     ]
    }
   ],
   "source": [
    "# Set the base URL to NASA's DONKI API\n",
    "base_url = \"https://api.nasa.gov/DONKI/\"\n",
    "\n",
    "# Set the specifier for CMEs\n",
    "specifier = \"CME\"\n",
    "\n",
    "# Search for CMEs between a begin and end date\n",
    "startDate = \"2013-05-01\"\n",
    "endDate = \"2024-05-01\"\n",
    "\n",
    "# Build URL for CME\n",
    "query_url_CME = f\"{base_url}{specifier}?startDate={startDate}&endDate={endDate}&api_key={NASA_API_KEY}\"\n",
    "\n",
    "# Make a GET request and store response\n",
    "cme_response = requests.get(query_url_CME)\n",
    "cme_json = cme_response.json()\n",
    "\n",
    "# Preview first result\n",
    "print(\"Sample CME Data:\")\n",
    "print(json.dumps(cme_json[0], indent=4))"
   ]
  },
  {
   "cell_type": "code",
   "execution_count": 3,
   "metadata": {
    "execution": {
     "iopub.execute_input": "2025-01-24T00:07:55.336206Z",
     "iopub.status.busy": "2025-01-24T00:07:55.336078Z",
     "iopub.status.idle": "2025-01-24T00:07:55.377057Z",
     "shell.execute_reply": "2025-01-24T00:07:55.376690Z"
    }
   },
   "outputs": [
    {
     "name": "stdout",
     "output_type": "stream",
     "text": [
      "\n",
      "Expanded CME DataFrame:\n",
      "                    activityID          startTime  \\\n",
      "0  2013-05-01T03:12:00-CME-001  2013-05-01T03:12Z   \n",
      "1  2013-05-03T22:36:00-CME-001  2013-05-03T22:36Z   \n",
      "2  2013-05-09T19:29:00-CME-001  2013-05-09T19:29Z   \n",
      "3  2013-05-13T02:54:00-CME-001  2013-05-13T02:54Z   \n",
      "4  2013-05-13T02:54:00-CME-001  2013-05-13T02:54Z   \n",
      "\n",
      "                                     linkedEvent  \n",
      "0  {'activityID': '2013-05-04T04:52:00-IPS-001'}  \n",
      "1  {'activityID': '2013-05-07T04:37:00-IPS-001'}  \n",
      "2  {'activityID': '2013-05-12T23:30:00-IPS-001'}  \n",
      "3  {'activityID': '2013-05-13T01:53:00-FLR-001'}  \n",
      "4  {'activityID': '2013-05-13T04:12:00-SEP-001'}  \n"
     ]
    }
   ],
   "source": [
    "# Convert to DataFrame\n",
    "cme_df = pd.DataFrame(cme_json)\n",
    "\n",
    "# Keep only required columns\n",
    "cme_df = cme_df[['activityID', 'startTime', 'linkedEvents']]\n",
    "\n",
    "# Remove rows with missing linkedEvents\n",
    "cme_df = cme_df.dropna(subset=['linkedEvents'])\n",
    "\n",
    "# Initialize empty list for expanded rows\n",
    "expanded_rows = []\n",
    "\n",
    "# Iterate through each row\n",
    "for i in cme_df.index:\n",
    "    activityID = cme_df.loc[i, 'activityID']\n",
    "    startTime = cme_df.loc[i, 'startTime']\n",
    "    linkedEvents = cme_df.loc[i, 'linkedEvents']\n",
    "    \n",
    "    # Iterate through linked events\n",
    "    for event in linkedEvents:\n",
    "        expanded_rows.append({\n",
    "            'activityID': activityID,\n",
    "            'startTime': startTime,\n",
    "            'linkedEvent': event\n",
    "        })\n",
    "\n",
    "# Create DataFrame from expanded rows\n",
    "cme_expanded_df = pd.DataFrame(expanded_rows)\n",
    "\n",
    "# Display the first few rows\n",
    "print(\"\\nExpanded CME DataFrame:\")\n",
    "print(cme_expanded_df.head())"
   ]
  },
  {
   "cell_type": "code",
   "execution_count": 4,
   "metadata": {
    "execution": {
     "iopub.execute_input": "2025-01-24T00:07:55.379019Z",
     "iopub.status.busy": "2025-01-24T00:07:55.378917Z",
     "iopub.status.idle": "2025-01-24T00:07:55.393375Z",
     "shell.execute_reply": "2025-01-24T00:07:55.392897Z"
    }
   },
   "outputs": [
    {
     "name": "stdout",
     "output_type": "stream",
     "text": [
      "\n",
      "Testing extract_activityID_from_dict function:\n",
      "2013-05-04T04:52:00-IPS-001\n",
      "\n",
      "Final CME DataFrame:\n",
      "<class 'pandas.core.frame.DataFrame'>\n",
      "Index: 61 entries, 21 to 1689\n",
      "Data columns (total 3 columns):\n",
      " #   Column          Non-Null Count  Dtype              \n",
      "---  ------          --------------  -----              \n",
      " 0   cmeID           61 non-null     object             \n",
      " 1   startTime_CME   61 non-null     datetime64[ns, UTC]\n",
      " 2   GST_ActivityID  61 non-null     object             \n",
      "dtypes: datetime64[ns, UTC](1), object(2)\n",
      "memory usage: 1.9+ KB\n",
      "None\n",
      "\n",
      "First few rows:\n",
      "                           cmeID             startTime_CME  \\\n",
      "21   2013-06-02T20:24:00-CME-001 2013-06-02 20:24:00+00:00   \n",
      "48   2013-09-29T22:40:00-CME-001 2013-09-29 22:40:00+00:00   \n",
      "90   2013-12-04T23:12:00-CME-001 2013-12-04 23:12:00+00:00   \n",
      "148  2014-02-16T14:15:00-CME-001 2014-02-16 14:15:00+00:00   \n",
      "151  2014-02-18T01:25:00-CME-001 2014-02-18 01:25:00+00:00   \n",
      "\n",
      "                  GST_ActivityID  \n",
      "21   2013-06-07T03:00:00-GST-001  \n",
      "48   2013-10-02T03:00:00-GST-001  \n",
      "90   2013-12-08T00:00:00-GST-001  \n",
      "148  2014-02-19T03:00:00-GST-001  \n",
      "151  2014-02-20T03:00:00-GST-001  \n"
     ]
    }
   ],
   "source": [
    "# Function to extract activityID from dict\n",
    "def extract_activityID_from_dict(input_dict):\n",
    "    try:\n",
    "        return input_dict['activityID']\n",
    "    except (ValueError, TypeError) as e:\n",
    "        return None\n",
    "\n",
    "# Test the function\n",
    "print(\"\\nTesting extract_activityID_from_dict function:\")\n",
    "print(extract_activityID_from_dict(cme_df.loc[0, 'linkedEvents'][0]))\n",
    "\n",
    "# Apply function to create GST_ActivityID column\n",
    "cme_expanded_df.loc[:, 'GST_ActivityID'] = cme_expanded_df['linkedEvent'].apply(extract_activityID_from_dict)\n",
    "\n",
    "# Remove rows with missing GST_ActivityID\n",
    "cme_expanded_df = cme_expanded_df.dropna(subset=['GST_ActivityID'])\n",
    "\n",
    "# Convert columns to appropriate types\n",
    "cme_expanded_df['GST_ActivityID'] = cme_expanded_df['GST_ActivityID'].astype(str)\n",
    "cme_expanded_df['startTime'] = pd.to_datetime(cme_expanded_df['startTime'])\n",
    "\n",
    "# Rename columns\n",
    "cme_expanded_df = cme_expanded_df.rename(columns={\n",
    "    'startTime': 'startTime_CME',\n",
    "    'activityID': 'cmeID'\n",
    "})\n",
    "\n",
    "# Drop linkedEvent column\n",
    "cme_expanded_df = cme_expanded_df.drop('linkedEvent', axis=1)\n",
    "\n",
    "# Filter for GST events\n",
    "cme_final_df = cme_expanded_df[cme_expanded_df['GST_ActivityID'].str.contains('GST')]\n",
    "\n",
    "print(\"\\nFinal CME DataFrame:\")\n",
    "print(cme_final_df.info())\n",
    "print(\"\\nFirst few rows:\")\n",
    "print(cme_final_df.head())"
   ]
  },
  {
   "cell_type": "markdown",
   "metadata": {},
   "source": [
    "### Part 2: Request GST data from the NASA API\n",
    "\n",
    "Now we'll fetch and process the GST (Geomagnetic Storm) data."
   ]
  },
  {
   "cell_type": "code",
   "execution_count": 5,
   "metadata": {
    "execution": {
     "iopub.execute_input": "2025-01-24T00:07:55.395444Z",
     "iopub.status.busy": "2025-01-24T00:07:55.395290Z",
     "iopub.status.idle": "2025-01-24T00:08:00.540518Z",
     "shell.execute_reply": "2025-01-24T00:08:00.539536Z"
    }
   },
   "outputs": [
    {
     "name": "stdout",
     "output_type": "stream",
     "text": [
      "Sample GST Data:\n",
      "{\n",
      "    \"gstID\": \"2013-06-01T01:00:00-GST-001\",\n",
      "    \"startTime\": \"2013-06-01T01:00Z\",\n",
      "    \"allKpIndex\": [\n",
      "        {\n",
      "            \"observedTime\": \"2013-06-01T01:00Z\",\n",
      "            \"kpIndex\": 6.0,\n",
      "            \"source\": \"NOAA\"\n",
      "        }\n",
      "    ],\n",
      "    \"link\": \"https://webtools.ccmc.gsfc.nasa.gov/DONKI/view/GST/326/-1\",\n",
      "    \"linkedEvents\": [\n",
      "        {\n",
      "            \"activityID\": \"2013-05-31T15:45:00-HSS-001\"\n",
      "        }\n",
      "    ],\n",
      "    \"submissionTime\": \"2013-07-15T19:26Z\",\n",
      "    \"versionId\": 1\n",
      "}\n"
     ]
    }
   ],
   "source": [
    "# Set the specifier for GSTs\n",
    "specifier = \"GST\"\n",
    "\n",
    "# Build URL for GST\n",
    "query_url_GST = f\"{base_url}{specifier}?startDate={startDate}&endDate={endDate}&api_key={NASA_API_KEY}\"\n",
    "\n",
    "# Make a GET request and store response\n",
    "gst_response = requests.get(query_url_GST)\n",
    "gst_json = gst_response.json()\n",
    "\n",
    "# Preview first result\n",
    "print(\"Sample GST Data:\")\n",
    "print(json.dumps(gst_json[0], indent=4))"
   ]
  },
  {
   "cell_type": "code",
   "execution_count": 6,
   "metadata": {
    "execution": {
     "iopub.execute_input": "2025-01-24T00:08:00.544938Z",
     "iopub.status.busy": "2025-01-24T00:08:00.544578Z",
     "iopub.status.idle": "2025-01-24T00:08:00.560527Z",
     "shell.execute_reply": "2025-01-24T00:08:00.559753Z"
    }
   },
   "outputs": [
    {
     "name": "stdout",
     "output_type": "stream",
     "text": [
      "\n",
      "GST DataFrame after explode:\n",
      "                         gstID          startTime  \\\n",
      "0  2013-06-01T01:00:00-GST-001  2013-06-01T01:00Z   \n",
      "1  2013-06-07T03:00:00-GST-001  2013-06-07T03:00Z   \n",
      "2  2013-10-02T03:00:00-GST-001  2013-10-02T03:00Z   \n",
      "3  2013-10-02T03:00:00-GST-001  2013-10-02T03:00Z   \n",
      "4  2013-10-02T03:00:00-GST-001  2013-10-02T03:00Z   \n",
      "\n",
      "                                    linkedEvents  \n",
      "0  {'activityID': '2013-05-31T15:45:00-HSS-001'}  \n",
      "1  {'activityID': '2013-06-02T20:24:00-CME-001'}  \n",
      "2  {'activityID': '2013-09-29T22:40:00-CME-001'}  \n",
      "3  {'activityID': '2013-10-02T01:54:00-IPS-001'}  \n",
      "4  {'activityID': '2013-10-02T02:47:00-MPC-001'}  \n"
     ]
    }
   ],
   "source": [
    "# Convert to DataFrame\n",
    "gst_df = pd.DataFrame(gst_json)\n",
    "\n",
    "# Keep only required columns\n",
    "gst_df = gst_df[['gstID', 'startTime', 'linkedEvents']]\n",
    "\n",
    "# Remove rows with missing linkedEvents\n",
    "gst_df = gst_df.dropna(subset=['linkedEvents'])\n",
    "\n",
    "# Explode linkedEvents to create separate rows\n",
    "gst_df = gst_df.explode('linkedEvents').reset_index(drop=True)\n",
    "\n",
    "# Display the first few rows after explode\n",
    "print(\"\\nGST DataFrame after explode:\")\n",
    "print(gst_df.head())"
   ]
  },
  {
   "cell_type": "code",
   "execution_count": 7,
   "metadata": {
    "execution": {
     "iopub.execute_input": "2025-01-24T00:08:00.563967Z",
     "iopub.status.busy": "2025-01-24T00:08:00.563721Z",
     "iopub.status.idle": "2025-01-24T00:08:00.581943Z",
     "shell.execute_reply": "2025-01-24T00:08:00.581145Z"
    }
   },
   "outputs": [
    {
     "name": "stdout",
     "output_type": "stream",
     "text": [
      "\n",
      "Final GST DataFrame:\n",
      "<class 'pandas.core.frame.DataFrame'>\n",
      "Index: 61 entries, 1 to 203\n",
      "Data columns (total 3 columns):\n",
      " #   Column          Non-Null Count  Dtype              \n",
      "---  ------          --------------  -----              \n",
      " 0   gstID           61 non-null     object             \n",
      " 1   startTime_GST   61 non-null     datetime64[ns, UTC]\n",
      " 2   CME_ActivityID  61 non-null     object             \n",
      "dtypes: datetime64[ns, UTC](1), object(2)\n",
      "memory usage: 1.9+ KB\n",
      "None\n",
      "\n",
      "First few rows:\n",
      "                         gstID             startTime_GST  \\\n",
      "1  2013-06-07T03:00:00-GST-001 2013-06-07 03:00:00+00:00   \n",
      "2  2013-10-02T03:00:00-GST-001 2013-10-02 03:00:00+00:00   \n",
      "5  2013-12-08T00:00:00-GST-001 2013-12-08 00:00:00+00:00   \n",
      "7  2014-02-19T03:00:00-GST-001 2014-02-19 03:00:00+00:00   \n",
      "9  2014-02-20T03:00:00-GST-001 2014-02-20 03:00:00+00:00   \n",
      "\n",
      "                CME_ActivityID  \n",
      "1  2013-06-02T20:24:00-CME-001  \n",
      "2  2013-09-29T22:40:00-CME-001  \n",
      "5  2013-12-04T23:12:00-CME-001  \n",
      "7  2014-02-16T14:15:00-CME-001  \n",
      "9  2014-02-18T01:25:00-CME-001  \n"
     ]
    }
   ],
   "source": [
    "# Apply extract_activityID_from_dict function\n",
    "gst_df.loc[:, 'CME_ActivityID'] = gst_df['linkedEvents'].apply(extract_activityID_from_dict)\n",
    "\n",
    "# Remove rows with missing CME_ActivityID\n",
    "gst_df = gst_df.dropna(subset=['CME_ActivityID'])\n",
    "\n",
    "# Convert columns to appropriate types\n",
    "gst_df['gstID'] = gst_df['gstID'].astype(str)\n",
    "gst_df['startTime'] = pd.to_datetime(gst_df['startTime'])\n",
    "\n",
    "# Rename startTime\n",
    "gst_df = gst_df.rename(columns={'startTime': 'startTime_GST'})\n",
    "\n",
    "# Drop linkedEvents\n",
    "gst_df = gst_df.drop('linkedEvents', axis=1)\n",
    "\n",
    "# Filter for CME events\n",
    "gst_final_df = gst_df[gst_df['CME_ActivityID'].str.contains('CME')]\n",
    "\n",
    "print(\"\\nFinal GST DataFrame:\")\n",
    "print(gst_final_df.info())\n",
    "print(\"\\nFirst few rows:\")\n",
    "print(gst_final_df.head())"
   ]
  },
  {
   "cell_type": "markdown",
   "metadata": {},
   "source": [
    "### Part 3: Merge and Clean the Data for Export\n",
    "\n",
    "Finally, we'll merge the CME and GST data and calculate the time differences."
   ]
  },
  {
   "cell_type": "code",
   "execution_count": 8,
   "metadata": {
    "execution": {
     "iopub.execute_input": "2025-01-24T00:08:00.586893Z",
     "iopub.status.busy": "2025-01-24T00:08:00.586613Z",
     "iopub.status.idle": "2025-01-24T00:08:00.601863Z",
     "shell.execute_reply": "2025-01-24T00:08:00.601167Z"
    }
   },
   "outputs": [
    {
     "name": "stdout",
     "output_type": "stream",
     "text": [
      "Row counts:\n",
      "CME DataFrame: 61\n",
      "GST DataFrame: 61\n",
      "Merged DataFrame: 61\n",
      "\n",
      "Time Difference Statistics (hours):\n",
      "count     61.000000\n",
      "mean      71.490710\n",
      "std       23.885927\n",
      "min       32.600000\n",
      "25%       52.000000\n",
      "50%       67.850000\n",
      "75%       85.583333\n",
      "max      147.000000\n",
      "Name: timeDiff, dtype: float64\n",
      "\n",
      "First few rows of merged data:\n",
      "                         gstID             startTime_GST  \\\n",
      "0  2013-06-07T03:00:00-GST-001 2013-06-07 03:00:00+00:00   \n",
      "1  2013-10-02T03:00:00-GST-001 2013-10-02 03:00:00+00:00   \n",
      "2  2013-12-08T00:00:00-GST-001 2013-12-08 00:00:00+00:00   \n",
      "3  2014-02-19T03:00:00-GST-001 2014-02-19 03:00:00+00:00   \n",
      "4  2014-02-20T03:00:00-GST-001 2014-02-20 03:00:00+00:00   \n",
      "\n",
      "                CME_ActivityID                        cmeID  \\\n",
      "0  2013-06-02T20:24:00-CME-001  2013-06-02T20:24:00-CME-001   \n",
      "1  2013-09-29T22:40:00-CME-001  2013-09-29T22:40:00-CME-001   \n",
      "2  2013-12-04T23:12:00-CME-001  2013-12-04T23:12:00-CME-001   \n",
      "3  2014-02-16T14:15:00-CME-001  2014-02-16T14:15:00-CME-001   \n",
      "4  2014-02-18T01:25:00-CME-001  2014-02-18T01:25:00-CME-001   \n",
      "\n",
      "              startTime_CME               GST_ActivityID    timeDiff  \n",
      "0 2013-06-02 20:24:00+00:00  2013-06-07T03:00:00-GST-001  102.600000  \n",
      "1 2013-09-29 22:40:00+00:00  2013-10-02T03:00:00-GST-001   52.333333  \n",
      "2 2013-12-04 23:12:00+00:00  2013-12-08T00:00:00-GST-001   72.800000  \n",
      "3 2014-02-16 14:15:00+00:00  2014-02-19T03:00:00-GST-001   60.750000  \n",
      "4 2014-02-18 01:25:00+00:00  2014-02-20T03:00:00-GST-001   49.583333  \n",
      "\n",
      "Data exported to: 6-output/collected_data.csv\n"
     ]
    }
   ],
   "source": [
    "# Merge CME and GST DataFrames\n",
    "merged_df = pd.merge(\n",
    "    gst_final_df,\n",
    "    cme_final_df,\n",
    "    left_on=['gstID', 'CME_ActivityID'],\n",
    "    right_on=['GST_ActivityID', 'cmeID']\n",
    ")\n",
    "\n",
    "# Verify row counts\n",
    "print(\"Row counts:\")\n",
    "print(f\"CME DataFrame: {len(cme_final_df)}\")\n",
    "print(f\"GST DataFrame: {len(gst_final_df)}\")\n",
    "print(f\"Merged DataFrame: {len(merged_df)}\")\n",
    "\n",
    "# Calculate time difference in hours\n",
    "merged_df['timeDiff'] = (merged_df['startTime_GST'] - merged_df['startTime_CME']).dt.total_seconds() / 3600\n",
    "\n",
    "# Show time difference statistics\n",
    "print(\"\\nTime Difference Statistics (hours):\")\n",
    "print(merged_df['timeDiff'].describe())\n",
    "\n",
    "# Display first few rows of final dataset\n",
    "print(\"\\nFirst few rows of merged data:\")\n",
    "print(merged_df.head())\n",
    "\n",
    "# Export to CSV\n",
    "output_path = \"6-output/collected_data.csv\"\n",
    "merged_df.to_csv(output_path, index=False)\n",
    "print(f\"\\nData exported to: {output_path}\")"
   ]
  }
 ],
 "metadata": {
  "kernelspec": {
   "display_name": "3.12.8",
   "language": "python",
   "name": "python3"
  },
  "language_info": {
   "codemirror_mode": {
    "name": "ipython",
    "version": 3
   },
   "file_extension": ".py",
   "mimetype": "text/x-python",
   "name": "python",
   "nbconvert_exporter": "python",
   "pygments_lexer": "ipython3",
   "version": "3.12.8"
  }
 },
 "nbformat": 4,
 "nbformat_minor": 4
}
